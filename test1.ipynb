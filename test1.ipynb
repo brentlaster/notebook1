{
 "cells": [
  {
   "cell_type": "markdown",
   "metadata": {},
   "source": [
    "# 🤖 AI Agent Example: Llama3 + RAG + Tool + ChromaDB\n",
    "This notebook shows how to:\n",
    "- Run a local AI agent using **llama3 via Ollama**\n",
    "- Use **ChromaDB** to load RAG content\n",
    "- Use **Open-Meteo API** as a tool\n",
    "- Combine results using **LangChain's QA system**"
   ]
  },
  {
   "cell_type": "code",
   "execution_count": null,
   "metadata": {},
   "outputs": [],
   "source": [
    "# Step 1: Install required packages\n",
    "!pip install -q langchain chromadb requests llama-index"
   ]
  },
  {
   "cell_type": "code",
   "execution_count": null,
   "metadata": {},
   "outputs": [],
   "source": [
    "# Step 2: Prepare and store local RAG data in ChromaDB\n",
    "from langchain.vectorstores import Chroma\n",
    "from langchain.embeddings import OllamaEmbeddings\n",
    "from langchain.document_loaders import TextLoader\n",
    "from langchain.text_splitter import CharacterTextSplitter\n",
    "import os\n",
    "\n",
    "# Save local tip documents\n",
    "rag_docs = [\n",
    "    \"In Paris, it's best to carry an umbrella in spring.\",\n",
    "    \"Always check the local metro schedule to avoid delays.\",\n",
    "    \"Wear comfortable walking shoes when visiting tourist spots in Paris.\"\n",
    "]\n",
    "\n",
    "os.makedirs(\"rag_docs\", exist_ok=True)\n",
    "for i, text in enumerate(rag_docs):\n",
    "    with open(f\"rag_docs/doc_{i}.txt\", \"w\") as f:\n",
    "        f.write(text)\n",
    "\n",
    "# Load and split\n",
    "all_docs = []\n",
    "for file in os.listdir(\"rag_docs\"):\n",
    "    loader = TextLoader(f\"rag_docs/{file}\")\n",
    "    all_docs.extend(loader.load())\n",
    "\n",
    "splitter = CharacterTextSplitter(chunk_size=300, chunk_overlap=50)\n",
    "splits = splitter.split_documents(all_docs)\n",
    "\n",
    "# Embed and persist to Chroma\n",
    "embedding = OllamaEmbeddings(model=\"llama3\")\n",
    "vectordb = Chroma.from_documents(splits, embedding, persist_directory=\"./chroma_db\")\n",
    "vectordb.persist()"
   ]
  },
  {
   "cell_type": "code",
   "execution_count": null,
   "metadata": {},
   "outputs": [],
   "source": [
    "# Step 3: Define the weather tool using Open-Meteo API\n",
    "import requests\n",
    "\n",
    "def get_weather(city: str = \"Paris\"):\n",
    "    response = requests.get(\n",
    "        \"https://api.open-meteo.com/v1/forecast\",\n",
    "        params={\n",
    "            \"latitude\": 48.8566,\n",
    "            \"longitude\": 2.3522,\n",
    "            \"current\": \"temperature_2m,wind_speed_10m\",\n",
    "            \"temperature_unit\": \"celsius\",\n",
    "            \"windspeed_unit\": \"kmh\"\n",
    "        }\n",
    "    )\n",
    "    if response.status_code != 200:\n",
    "        return {\"error\": \"Failed to fetch weather data.\"}\n",
    "    return response.json().get(\"current\", {})"
   ]
  },
  {
   "cell_type": "code",
   "execution_count": null,
   "metadata": {},
   "outputs": [],
   "source": [
    "# Step 4: Run LLM + Tool + RAG Agent\n",
    "from langchain.llms import Ollama\n",
    "from langchain.chains import RetrievalQA\n",
    "\n",
    "llm = Ollama(model=\"llama3\")\n",
    "retriever = Chroma(persist_directory=\"./chroma_db\", embedding_function=embedding).as_retriever()\n",
    "qa = RetrievalQA.from_chain_type(llm=llm, retriever=retriever)\n",
    "\n",
    "# Get weather data\n",
    "weather = get_weather(\"Paris\")\n",
    "weather_text = (\n",
    "    f\"The current temperature in Paris is {weather.get('temperature_2m', '?')}°C \"\n",
    "    f\"with wind speed {weather.get('wind_speed_10m', '?')} km/h.\"\n",
    ")\n",
    "\n",
    "query = f\"Given this weather: {weather_text}, what travel tips do you have for Paris?\"\n",
    "response = qa.run(query)\n",
    "\n",
    "print(\"🤖 AI Agent Response:\\n\")\n",
    "print(response)"
   ]
  }
 ],
 "metadata": {
  "kernelspec": {
   "display_name": "Python 3",
   "language": "python",
   "name": "python3"
  },
  "language_info": {
   "name": "python"
  }
 },
 "nbformat": 4,
 "nbformat_minor": 2
}
